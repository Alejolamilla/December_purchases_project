{
 "cells": [
  {
   "cell_type": "code",
   "execution_count": 2,
   "metadata": {},
   "outputs": [],
   "source": [
    "%matplotlib inline\n",
    "import pandas as pd"
   ]
  },
  {
   "cell_type": "code",
   "execution_count": 3,
   "metadata": {},
   "outputs": [],
   "source": [
    "purchases = pd.read_csv(\"../data/treated/purchases_enriched.csv\")"
   ]
  },
  {
   "cell_type": "markdown",
   "metadata": {},
   "source": [
    "## Trying a supervised model"
   ]
  },
  {
   "cell_type": "code",
   "execution_count": 8,
   "metadata": {},
   "outputs": [],
   "source": [
    "data = purchases.copy()\n",
    "for i, column in enumerate(list([str(d) for d in data.dtypes])):\n",
    "    if column == \"object\":\n",
    "        data[data.columns[i]] = data[data.columns[i]].fillna(data[data.columns[i]].mode())\n",
    "        data[data.columns[i]] = data[data.columns[i]].astype(\"category\").cat.codes\n",
    "    else:\n",
    "        data[data.columns[i]] = data[data.columns[i]].fillna(data[data.columns[i]].median())"
   ]
  },
  {
   "cell_type": "code",
   "execution_count": 9,
   "metadata": {},
   "outputs": [
    {
     "data": {
      "text/html": [
       "<div>\n",
       "<style scoped>\n",
       "    .dataframe tbody tr th:only-of-type {\n",
       "        vertical-align: middle;\n",
       "    }\n",
       "\n",
       "    .dataframe tbody tr th {\n",
       "        vertical-align: top;\n",
       "    }\n",
       "\n",
       "    .dataframe thead th {\n",
       "        text-align: right;\n",
       "    }\n",
       "</style>\n",
       "<table border=\"1\" class=\"dataframe\">\n",
       "  <thead>\n",
       "    <tr style=\"text-align: right;\">\n",
       "      <th></th>\n",
       "      <th>Unnamed: 0</th>\n",
       "      <th>NUM BEN</th>\n",
       "      <th>BENEFICIARIO</th>\n",
       "      <th>RFC</th>\n",
       "      <th>FACTURA</th>\n",
       "      <th>CONTRATO</th>\n",
       "      <th>CONCEPTO</th>\n",
       "      <th>TIPO</th>\n",
       "      <th># OP</th>\n",
       "      <th>FECHA</th>\n",
       "      <th>IMPORTE</th>\n",
       "      <th>SHEET</th>\n",
       "      <th>DIA</th>\n",
       "      <th>MES</th>\n",
       "      <th>ANO</th>\n",
       "      <th>BENEFICIARIO_SALES</th>\n",
       "      <th>HAS_LINKEDIN</th>\n",
       "    </tr>\n",
       "  </thead>\n",
       "  <tbody>\n",
       "    <tr>\n",
       "      <th>0</th>\n",
       "      <td>0</td>\n",
       "      <td>110152</td>\n",
       "      <td>161</td>\n",
       "      <td>167</td>\n",
       "      <td>1388</td>\n",
       "      <td>130</td>\n",
       "      <td>780</td>\n",
       "      <td>1</td>\n",
       "      <td>1019110.0</td>\n",
       "      <td>8</td>\n",
       "      <td>14911.80</td>\n",
       "      <td>2</td>\n",
       "      <td>11</td>\n",
       "      <td>12</td>\n",
       "      <td>2020</td>\n",
       "      <td>13</td>\n",
       "      <td>True</td>\n",
       "    </tr>\n",
       "    <tr>\n",
       "      <th>1</th>\n",
       "      <td>1</td>\n",
       "      <td>110152</td>\n",
       "      <td>161</td>\n",
       "      <td>167</td>\n",
       "      <td>1389</td>\n",
       "      <td>135</td>\n",
       "      <td>845</td>\n",
       "      <td>1</td>\n",
       "      <td>1019110.0</td>\n",
       "      <td>8</td>\n",
       "      <td>2528.80</td>\n",
       "      <td>2</td>\n",
       "      <td>11</td>\n",
       "      <td>12</td>\n",
       "      <td>2020</td>\n",
       "      <td>13</td>\n",
       "      <td>True</td>\n",
       "    </tr>\n",
       "    <tr>\n",
       "      <th>2</th>\n",
       "      <td>2</td>\n",
       "      <td>110152</td>\n",
       "      <td>161</td>\n",
       "      <td>167</td>\n",
       "      <td>1390</td>\n",
       "      <td>132</td>\n",
       "      <td>759</td>\n",
       "      <td>1</td>\n",
       "      <td>1019110.0</td>\n",
       "      <td>8</td>\n",
       "      <td>8500.02</td>\n",
       "      <td>2</td>\n",
       "      <td>11</td>\n",
       "      <td>12</td>\n",
       "      <td>2020</td>\n",
       "      <td>13</td>\n",
       "      <td>True</td>\n",
       "    </tr>\n",
       "    <tr>\n",
       "      <th>3</th>\n",
       "      <td>3</td>\n",
       "      <td>110152</td>\n",
       "      <td>161</td>\n",
       "      <td>167</td>\n",
       "      <td>1391</td>\n",
       "      <td>131</td>\n",
       "      <td>757</td>\n",
       "      <td>1</td>\n",
       "      <td>1019110.0</td>\n",
       "      <td>8</td>\n",
       "      <td>2400.01</td>\n",
       "      <td>2</td>\n",
       "      <td>11</td>\n",
       "      <td>12</td>\n",
       "      <td>2020</td>\n",
       "      <td>13</td>\n",
       "      <td>True</td>\n",
       "    </tr>\n",
       "    <tr>\n",
       "      <th>4</th>\n",
       "      <td>4</td>\n",
       "      <td>110152</td>\n",
       "      <td>161</td>\n",
       "      <td>167</td>\n",
       "      <td>1392</td>\n",
       "      <td>417</td>\n",
       "      <td>859</td>\n",
       "      <td>1</td>\n",
       "      <td>299001496.0</td>\n",
       "      <td>16</td>\n",
       "      <td>1537.00</td>\n",
       "      <td>2</td>\n",
       "      <td>23</td>\n",
       "      <td>12</td>\n",
       "      <td>2020</td>\n",
       "      <td>13</td>\n",
       "      <td>True</td>\n",
       "    </tr>\n",
       "  </tbody>\n",
       "</table>\n",
       "</div>"
      ],
      "text/plain": [
       "   Unnamed: 0  NUM BEN  BENEFICIARIO  RFC  FACTURA  CONTRATO  CONCEPTO  TIPO  \\\n",
       "0           0   110152           161  167     1388       130       780     1   \n",
       "1           1   110152           161  167     1389       135       845     1   \n",
       "2           2   110152           161  167     1390       132       759     1   \n",
       "3           3   110152           161  167     1391       131       757     1   \n",
       "4           4   110152           161  167     1392       417       859     1   \n",
       "\n",
       "          # OP  FECHA   IMPORTE  SHEET  DIA  MES   ANO  BENEFICIARIO_SALES  \\\n",
       "0    1019110.0      8  14911.80      2   11   12  2020                  13   \n",
       "1    1019110.0      8   2528.80      2   11   12  2020                  13   \n",
       "2    1019110.0      8   8500.02      2   11   12  2020                  13   \n",
       "3    1019110.0      8   2400.01      2   11   12  2020                  13   \n",
       "4  299001496.0     16   1537.00      2   23   12  2020                  13   \n",
       "\n",
       "   HAS_LINKEDIN  \n",
       "0          True  \n",
       "1          True  \n",
       "2          True  \n",
       "3          True  \n",
       "4          True  "
      ]
     },
     "execution_count": 9,
     "metadata": {},
     "output_type": "execute_result"
    }
   ],
   "source": [
    "data.head()"
   ]
  },
  {
   "cell_type": "code",
   "execution_count": 13,
   "metadata": {},
   "outputs": [],
   "source": [
    "from sklearn.ensemble import RandomForestRegressor\n",
    "from sklearn.model_selection import train_test_split\n",
    "from sklearn.metrics import r2_score"
   ]
  },
  {
   "cell_type": "code",
   "execution_count": 11,
   "metadata": {},
   "outputs": [],
   "source": [
    "y = data.pop(\"IMPORTE\")\n",
    "X = data.copy()\n",
    "X_train, X_test, y_train, y_test = train_test_split(X,y, test_size=0.3, random_state=42)"
   ]
  },
  {
   "cell_type": "code",
   "execution_count": 12,
   "metadata": {},
   "outputs": [
    {
     "data": {
      "text/plain": [
       "RandomForestRegressor(max_depth=4, n_estimators=1000)"
      ]
     },
     "execution_count": 12,
     "metadata": {},
     "output_type": "execute_result"
    }
   ],
   "source": [
    "clf = RandomForestRegressor(n_estimators=1000, max_depth=4)\n",
    "clf.fit(X_train, y_train)"
   ]
  },
  {
   "cell_type": "code",
   "execution_count": 14,
   "metadata": {},
   "outputs": [
    {
     "data": {
      "text/plain": [
       "0.18516692764281806"
      ]
     },
     "execution_count": 14,
     "metadata": {},
     "output_type": "execute_result"
    }
   ],
   "source": [
    "r2_score(y_test, clf.predict(X_test))"
   ]
  },
  {
   "cell_type": "markdown",
   "metadata": {},
   "source": [
    "## Testing non-supervised model or clustering for the text"
   ]
  },
  {
   "cell_type": "code",
   "execution_count": 15,
   "metadata": {},
   "outputs": [],
   "source": [
    "import gensim\n",
    "from nltk.corpus import stopwords\n",
    "import numpy as np\n",
    "np.random.seed(2021)"
   ]
  },
  {
   "cell_type": "code",
   "execution_count": 19,
   "metadata": {},
   "outputs": [],
   "source": [
    "# Convert the data into tokens\n",
    "def preprocess(text):\n",
    "    result = []\n",
    "    for token in text.split():\n",
    "        if token not in stopwords.words(\"spanish\") and len(token)>4:\n",
    "            result.append(token)\n",
    "\n",
    "    return result"
   ]
  },
  {
   "cell_type": "code",
   "execution_count": 18,
   "metadata": {},
   "outputs": [],
   "source": [
    "process_business = [preprocess(x) for x in list(purchases[\"BENEFICIARIO\"].unique())]"
   ]
  },
  {
   "cell_type": "code",
   "execution_count": 20,
   "metadata": {},
   "outputs": [],
   "source": [
    "dictionary = gensim.corpora.Dictionary(process_business)"
   ]
  },
  {
   "cell_type": "code",
   "execution_count": 21,
   "metadata": {},
   "outputs": [],
   "source": [
    "dictionary.filter_extremes(no_below=1, no_above=0.5)"
   ]
  },
  {
   "cell_type": "code",
   "execution_count": 22,
   "metadata": {},
   "outputs": [],
   "source": [
    "bow_corpus = [dictionary.doc2bow(doc) for doc in process_business]"
   ]
  },
  {
   "cell_type": "code",
   "execution_count": 23,
   "metadata": {},
   "outputs": [],
   "source": [
    "lda_model = gensim.models.LdaMulticore(bow_corpus, num_topics=6,id2word=dictionary, passes = 10, workers=2)"
   ]
  },
  {
   "cell_type": "code",
   "execution_count": 24,
   "metadata": {},
   "outputs": [
    {
     "name": "stdout",
     "output_type": "stream",
     "text": [
      "topic: 0 Words: 0.010*\"DESARROLLOS\" + 0.010*\"GARZA\" + 0.010*\"GUERRERO\" + 0.010*\"INSTITUTO\" + 0.010*\"SALAZAR\" + 0.010*\"ADRIANA\" + 0.010*\"BANCO\" + 0.010*\"URBANIZACIONES\" + 0.010*\"IGNACIO\" + 0.010*\"JESUS\"\n",
      "topic: 1 Words: 0.033*\"GARCIA\" + 0.021*\"GONZALEZ\" + 0.021*\"GARZA\" + 0.018*\"MARIA\" + 0.013*\"TREVIÑO\" + 0.013*\"SANCHEZ\" + 0.013*\"MARCELO\" + 0.013*\"ARTURO\" + 0.013*\"MANUEL\" + 0.009*\"ALBERTO\"\n",
      "topic: 2 Words: 0.015*\"GRUPO\" + 0.010*\"SERVICIOS\" + 0.010*\"ESTHER\" + 0.010*\"MARTINEZ\" + 0.010*\"MONTERREY\" + 0.010*\"CONSTRUCTORA\" + 0.010*\"MORENO\" + 0.005*\"ALEJANDRO\" + 0.005*\"VILLARREAL\" + 0.005*\"HERNANDEZ\"\n",
      "topic: 3 Words: 0.026*\"MARIA\" + 0.023*\"RODRIGUEZ\" + 0.019*\"GONZALEZ\" + 0.018*\"GOMEZ\" + 0.012*\"LOZANO\" + 0.008*\"TORRES\" + 0.008*\"DESARROLLO\" + 0.008*\"PEREZ\" + 0.008*\"SEGURIDAD\" + 0.008*\"SANCHEZ\"\n",
      "topic: 4 Words: 0.031*\"CONSTRUCTORA\" + 0.018*\"CONSTRUCCIONES\" + 0.018*\"MEXICO,\" + 0.010*\"NUEVO\" + 0.010*\"RAMIREZ\" + 0.010*\"SEGUROS\" + 0.010*\"INTEGRACION\" + 0.010*\"SEBASTIAN,\" + 0.010*\"ARRENDADORA\" + 0.010*\"GRUPO\"\n",
      "topic: 5 Words: 0.018*\"MONTERREY,\" + 0.014*\"SERVICIOS\" + 0.014*\"CONSTRUCCION\" + 0.010*\"MEXICO,\" + 0.010*\"INFRAESTRUCTURA\" + 0.010*\"CANTU\" + 0.010*\"FLORES\" + 0.010*\"VAZQUEZ\" + 0.010*\"MARCELO\" + 0.010*\"GONZALEZ\"\n"
     ]
    }
   ],
   "source": [
    "for idx, type_business in lda_model.print_topics(-1):\n",
    "    print(\"topic: {} Words: {}\".format(idx, type_business))"
   ]
  },
  {
   "cell_type": "code",
   "execution_count": 25,
   "metadata": {},
   "outputs": [],
   "source": [
    "def get_max_topic(index):\n",
    "    results = lda_model[bow_corpus[index]]\n",
    "    return max(lda_model[results], key=lambda x: x[1])[0]"
   ]
  },
  {
   "cell_type": "code",
   "execution_count": 28,
   "metadata": {},
   "outputs": [],
   "source": [
    "business_cluster = {x: get_max_topic(i) for i, x in enumerate(list(purchases[\"BENEFICIARIO\"].unique()))}"
   ]
  },
  {
   "cell_type": "code",
   "execution_count": 30,
   "metadata": {},
   "outputs": [],
   "source": [
    "purchases[\"CLUSTER_NAME\"] = purchases[\"BENEFICIARIO\"].apply(lambda x: business_cluster[x])"
   ]
  },
  {
   "cell_type": "code",
   "execution_count": 31,
   "metadata": {},
   "outputs": [
    {
     "data": {
      "text/plain": [
       "<AxesSubplot:xlabel='CLUSTER_NAME'>"
      ]
     },
     "execution_count": 31,
     "metadata": {},
     "output_type": "execute_result"
    },
    {
     "data": {
      "image/png": "[encoded data removed]",
      "text/plain": [
       "<Figure size 640x480 with 1 Axes>"
      ]
     },
     "metadata": {},
     "output_type": "display_data"
    }
   ],
   "source": [
    "purchases.groupby(\"CLUSTER_NAME\")[\"IMPORTE\"].mean().plot.bar()"
   ]
  },
  {
   "cell_type": "code",
   "execution_count": null,
   "metadata": {},
   "outputs": [],
   "source": []
  }
 ],
 "metadata": {
  "kernelspec": {
   "display_name": "base",
   "language": "python",
   "name": "python3"
  },
  "language_info": {
   "codemirror_mode": {
    "name": "ipython",
    "version": 3
   },
   "file_extension": ".py",
   "mimetype": "text/x-python",
   "name": "python",
   "nbconvert_exporter": "python",
   "pygments_lexer": "ipython3",
   "version": "3.9.13"
  },
  "orig_nbformat": 4
 },
 "nbformat": 4,
 "nbformat_minor": 2
}
